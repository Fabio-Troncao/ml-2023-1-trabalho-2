{
 "cells": [
  {
   "cell_type": "code",
   "execution_count": 4,
   "metadata": {},
   "outputs": [],
   "source": [
    "# Importando os módulos necessários\n",
    "import pandas as pd\n",
    "from sklearn.preprocessing import LabelEncoder\n",
    "from sklearn.model_selection import train_test_split\n",
    "from sklearn.tree import DecisionTreeClassifier\n",
    "from sklearn.metrics import classification_report, accuracy_score, confusion_matrix\n",
    "from sklearn import preprocessing\n",
    "from sklearn.neighbors import KNeighborsClassifier\n",
    "from sklearn.naive_bayes import MultinomialNB\n",
    "from sklearn.feature_extraction.text import CountVectorizer"
   ]
  },
  {
   "cell_type": "code",
   "execution_count": 6,
   "metadata": {},
   "outputs": [],
   "source": [
    "# Carregando o dataset\n",
    "df = pd.read_excel('dataset.xlsx')\n",
    "\n",
    "# Removendo colunas que não serão utilizadas\n",
    "df = df.drop(columns=['Patient ID', 'Patient addmited to regular ward (1=yes, 0=no)', 'Patient addmited to semi-intensive unit (1=yes, 0=no)', 'Patient addmited to intensive care unit (1=yes, 0=no)'])\n",
    "\n",
    "# Mapeando os valores categóricos para numéricos\n",
    "for col in df.columns:\n",
    "    if df[col].dtype == 'object':\n",
    "        lbl = LabelEncoder()\n",
    "        lbl.fit(list(df[col].values))\n",
    "        df[col] = lbl.transform(df[col].values)\n",
    "\n",
    "# Removendo colunas com valores faltantes, com um threshold de 90%\n",
    "df = df[df.columns[df.isna().sum()/df.shape[0] < 0.9]]\n",
    "\n",
    "# Preenchendo os valores faltantes com a mediana\n",
    "df = df.fillna(df.median())\n",
    "\n",
    "# Salva um arquivo auxiliar do dataset tratado\n",
    "df.to_excel('dataset_tra.xlsx', index=False)\n",
    "\n",
    "# Carrega o dataset tratado e normaliza os dados\n",
    "df_aux = pd.read_excel('dataset_tra.xlsx')\n",
    "df_aux = df_aux.drop(columns=['SARS-Cov-2 exam result'])\n",
    "df_normalized = preprocessing.normalize(df_aux)"
   ]
  },
  {
   "cell_type": "code",
   "execution_count": 10,
   "metadata": {},
   "outputs": [
    {
     "name": "stdout",
     "output_type": "stream",
     "text": [
      "Avaliação da Árvore de Decisão\n",
      "\n",
      "True Negatives: 1504, False Positives: 28, False Negatives: 152, True Positives: 10 \n",
      " Accuracy: 0.8937426210153483 \n",
      " Classification Report:\n",
      "               precision    recall  f1-score   support\n",
      "\n",
      "           0       0.91      0.98      0.94      1532\n",
      "           1       0.26      0.06      0.10       162\n",
      "\n",
      "    accuracy                           0.89      1694\n",
      "   macro avg       0.59      0.52      0.52      1694\n",
      "weighted avg       0.85      0.89      0.86      1694\n",
      "\n"
     ]
    }
   ],
   "source": [
    "# Árvore de decisão\n",
    "\n",
    "#variáveis de entrada e saída\n",
    "X = df_normalized\n",
    "Y = df['SARS-Cov-2 exam result']\n",
    "\n",
    "# Divide o dataset em conjuntos de treinamento e teste\n",
    "X_train, X_test, y_train, y_test = train_test_split(X, Y, test_size=0.3, random_state=101)\n",
    "\n",
    "# Define o modelo e o treina\n",
    "model = DecisionTreeClassifier()\n",
    "model.fit(X_train, y_train)\n",
    "\n",
    "print('Avaliação da Árvore de Decisão\\n')\n",
    "\n",
    "# Imprime as métricas de avaliação da árvore de decisão\n",
    "prds = model.predict(X_test)\n",
    "tn, fp, fn, tp = confusion_matrix(y_test, prds).ravel()\n",
    "print(f'True Negatives: {tn}, False Positives: {fp}, False Negatives: {fn}, True Positives: {tp}', '\\n',\n",
    "      'Accuracy:', (accuracy_score(y_test, prds)), '\\n',\n",
    "      'Classification Report:\\n', (classification_report(y_test, prds)))"
   ]
  },
  {
   "cell_type": "code",
   "execution_count": 11,
   "metadata": {},
   "outputs": [
    {
     "name": "stdout",
     "output_type": "stream",
     "text": [
      "Avaliação do KNN\n",
      "\n",
      "True Negatives: 1528, False Positives: 4, False Negatives: 160, True Positives: 2 \n",
      " Accuracy: 0.9031877213695395 \n",
      " Classification Report:\n",
      "               precision    recall  f1-score   support\n",
      "\n",
      "           0       0.91      1.00      0.95      1532\n",
      "           1       0.33      0.01      0.02       162\n",
      "\n",
      "    accuracy                           0.90      1694\n",
      "   macro avg       0.62      0.50      0.49      1694\n",
      "weighted avg       0.85      0.90      0.86      1694\n",
      "\n"
     ]
    }
   ],
   "source": [
    "# KNN\n",
    "\n",
    "# divide os dados em conjuntos de treino e teste\n",
    "X_train, X_test, y_train, y_test = train_test_split(X, Y, test_size=0.3, random_state=101)\n",
    "\n",
    "# define o modelo KNN e ajusta o modelo aos dados de treino\n",
    "model = KNeighborsClassifier(n_neighbors=5)\n",
    "model.fit(X_train, y_train)\n",
    "\n",
    "print('Avaliação do KNN\\n')\n",
    "\n",
    "#Imprime as métricas de avaliação do KNN\n",
    "\n",
    "prds = model.predict(X_test)\n",
    "tn, fp, fn, tp = confusion_matrix(y_test, prds).ravel()\n",
    "print(f'True Negatives: {tn}, False Positives: {fp}, False Negatives: {fn}, True Positives: {tp}', '\\n',\n",
    "'Accuracy:', (accuracy_score(y_test, prds)), '\\n',\n",
    "'Classification Report:\\n', (classification_report(y_test, prds)))"
   ]
  },
  {
   "cell_type": "code",
   "execution_count": 12,
   "metadata": {},
   "outputs": [
    {
     "name": "stdout",
     "output_type": "stream",
     "text": [
      "Avaliação do Naive Bayes\n",
      "\n",
      "True Negatives: 1381, False Positives: 151, False Negatives: 135, True Positives: 27 \n",
      " Accuracy: 0.8311688311688312 \n",
      " Classification Report:\n",
      "               precision    recall  f1-score   support\n",
      "\n",
      "           0       0.91      0.90      0.91      1532\n",
      "           1       0.15      0.17      0.16       162\n",
      "\n",
      "    accuracy                           0.83      1694\n",
      "   macro avg       0.53      0.53      0.53      1694\n",
      "weighted avg       0.84      0.83      0.83      1694\n",
      "\n"
     ]
    }
   ],
   "source": [
    "# Naive Bayes\n",
    "\n",
    "# Criação do vetorizador CountVectorizer\n",
    "vectorizer = CountVectorizer()\n",
    "# Transformação dos dados de entrada (concatenação de colunas) em um vetor\n",
    "X = vectorizer.fit_transform(df['Patient age quantile'].astype(str) + ' ' + df['Leukocytes'].astype(str) + ' ' + df['Platelets'].astype(str) + ' ' + df['Monocytes'].astype(str) + ' ' + df['Red blood Cells'].astype(str))\n",
    "Y = df['SARS-Cov-2 exam result']\n",
    "\n",
    "# Separação dos dados em treino e teste\n",
    "X_train, X_test, y_train, y_test = train_test_split(X, Y, test_size=0.3, random_state=101)\n",
    "\n",
    "# Criação do modelo Naive Bayes e Treinamento do modelo com os dados de treino\n",
    "model = MultinomialNB()\n",
    "model.fit(X_train, y_train)\n",
    "\n",
    "print('Avaliação do Naive Bayes\\n')\n",
    "\n",
    "#Imprime as métricas de avaliação do Naive Bayes\n",
    "\n",
    "prds = model.predict(X_test)\n",
    "tn, fp, fn, tp = confusion_matrix(y_test, prds).ravel()\n",
    "print(f'True Negatives: {tn}, False Positives: {fp}, False Negatives: {fn}, True Positives: {tp}', '\\n',\n",
    "'Accuracy:', (accuracy_score(y_test, prds)), '\\n',\n",
    "'Classification Report:\\n', (classification_report(y_test, prds)))"
   ]
  }
 ],
 "metadata": {
  "kernelspec": {
   "display_name": "Python 3",
   "language": "python",
   "name": "python3"
  },
  "language_info": {
   "codemirror_mode": {
    "name": "ipython",
    "version": 3
   },
   "file_extension": ".py",
   "mimetype": "text/x-python",
   "name": "python",
   "nbconvert_exporter": "python",
   "pygments_lexer": "ipython3",
   "version": "3.11.1"
  },
  "orig_nbformat": 4
 },
 "nbformat": 4,
 "nbformat_minor": 2
}
